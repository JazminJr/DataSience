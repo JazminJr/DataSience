{
 "cells": [
  {
   "cell_type": "markdown",
   "id": "ujPV9pOtzZJ8",
   "metadata": {
    "id": "ujPV9pOtzZJ8"
   },
   "source": [
    "# Estudio de Violencia en Mexico en el perido 2017-2020"
   ]
  },
  {
   "cell_type": "markdown",
   "id": "bSZQtfrUSjrE",
   "metadata": {
    "id": "bSZQtfrUSjrE"
   },
   "source": [
    "## **Abstract**\n",
    "\n",
    "\n",
    "Este DataSet es un registro de incidencia delictiva en México en el periodo de 2015 - 2023. url: https://www.kaggle.com/datasets/beelzabi/crimen-mx\n",
    "\n",
    "\n",
    "Abstract:\n",
    "\n",
    "En Mexico y tanto en otros lugares del mundo existe la inseguridad para todas las a gran escala y es importante conocer mediante las estadisticas, el tipo de delito que se sta cometiendo a gran escala, con el fin de que podamos tomar nuestras precauciones y alertar a nuestros familiares.\n",
    "\n",
    "Para este Data set nos interesa conocer como es el comportamiento de los delitos a los largo del perido del 2015-2023 y en que meses fueron mas notorios\n"
   ]
  },
  {
   "cell_type": "markdown",
   "id": "vGImLYf0tbA2",
   "metadata": {
    "id": "vGImLYf0tbA2"
   },
   "source": [
    "##**CONTEXTO COMERCIAL**\n",
    "\n",
    "En la Republica Mexicana ha experimentado un gran numero de reportes de todo tipo de delitos en los ultimos años. Para ello se ha recopilado información de todo los delitos comentidos desde el año 2015 hasta la actualidad 2023.\n",
    "\n",
    "Somos una equipo de Trabajadores de Data Sicence independiente en el cual nos encomiendan identifar el Estado con mayo inseguidad en el Pais de Mexico y tambien a que genero esta afectando mas. Se tiene ciertos parametros como el tipo de delitos, el genero afectado, los meses de las cuales se han registrado los delitos, de los cuales nos interesa identificar."
   ]
  },
  {
   "cell_type": "markdown",
   "id": "RvO7Cwu0TSTN",
   "metadata": {
    "id": "RvO7Cwu0TSTN"
   },
   "source": [
    "\n",
    "## **PROBLEMA COMERCIAL**\n",
    "\n",
    "Conlos datos proporcionados generar visualizacioness que correspondan al objetivo del problema la cual es identificar el estado con mayor inseguridad y a que genero es mas afectado, asi como responder a las preguntas del cliente\n"
   ]
  },
  {
   "cell_type": "markdown",
   "id": "_vC463nkt-vQ",
   "metadata": {
    "id": "_vC463nkt-vQ"
   },
   "source": [
    "## **CONTEXTO ANALITICO**\n",
    "\n",
    "Recibirmos este data set por la comunidad de Kaggle https://www.kaggle.com/datasets/beelzabi/crimen-mx para analizar los detitos cometidos en Mexico, el dataset cuenta con los sieguientes compos:\n",
    "\n",
    "\n",
    "* Año             -              Año en que ocurrieron los delitos\n",
    "* Clave_Ent     -                Clave de la entidad federativa\n",
    "* Entidad         -              Estado en el que ocurre el delito\n",
    "* Bien jurídico afectado    -    Juridico afectado sobre el dlito\n",
    "* Tipo de delito        -        Tipo de delito cometido\n",
    "* Subtipo de delito    -         Subtipo de delito cometido\n",
    "* Modalidad      -               Forma en que ocurre el Delito\n",
    "* Enero        -                 Cantidad de delitos ocurridos en Enero\n",
    "* Febrero       -                Cantidad de delitos ocurridos en Febrero\n",
    "* Marzo      -                   Cantidad de delitos ocurridos en Marzo\n",
    "* Abril        -                 Cantidad de delitos ocurridos en Abril\n",
    "* Mayo          -                Cantidad de delitos ocurridos en Mayo\n",
    "* Junio          -               Cantidad de delitos ocurridos en Junio\n",
    "* Julio           -              Cantidad de delitos ocurridos en Julio\n",
    "* Agosto           -             Cantidad de delitos ocurridos en Agosto\n",
    "* Septiembre       -             Cantidad de delitos ocurridos en Septiembre\n",
    "* Octubre            -           Cantidad de delitos ocurridos en Octubre\n",
    "* Noviembre           -          Cantidad de delitos ocurridos en Noviembre\n",
    "* Diciembre             -        Cantidad de delitos ocurridos en Diciembre\n",
    "* Total delitos            -    Suma de total de Delitos de Enrero-Diciembre\n",
    "* Sexo/Averiguación previa    -  Quienes fueron los afectados"
   ]
  },
  {
   "cell_type": "markdown",
   "id": "kDCmAT1G2Z5c",
   "metadata": {
    "id": "kDCmAT1G2Z5c"
   },
   "source": [
    "## Preguntas\n",
    "\n",
    "- Cual es el Total de casos por año?\n",
    "- Los actos de violencia son mas frecuentemente perpretados usando que tipo de armas?\n",
    "- Que genero sufre mas casos de este tipo de delitos?"
   ]
  },
  {
   "cell_type": "markdown",
   "id": "8c1ef46d-f5ca-41b0-a9a2-1e8523f0be2a",
   "metadata": {
    "id": "8c1ef46d-f5ca-41b0-a9a2-1e8523f0be2a"
   },
   "source": [
    "## Carga de Librerias"
   ]
  },
  {
   "cell_type": "code",
   "execution_count": 1,
   "id": "ddb3f39a-003a-425c-a986-c133eca1fc0d",
   "metadata": {
    "id": "ddb3f39a-003a-425c-a986-c133eca1fc0d"
   },
   "outputs": [],
   "source": [
    "import pandas as pd\n",
    "import matplotlib as mpl\n",
    "import matplotlib.pyplot as plt\n",
    "import seaborn as sns\n",
    "sns.set_theme(style=\"ticks\")\n",
    "import statsmodels.api as sm\n",
    "import numpy as np\n",
    "from mpl_toolkits.mplot3d import Axes3D\n",
    "from matplotlib import cm\n",
    "plt.rcParams['figure.figsize'] = (16, 9)\n",
    "plt.style.use('ggplot')\n",
    "from sklearn import linear_model\n",
    "from sklearn.metrics import mean_squared_error, r2_score\n",
    "import os"
   ]
  },
  {
   "cell_type": "code",
   "execution_count": 3,
   "id": "KK3OQj-1vppz",
   "metadata": {
    "colab": {
     "base_uri": "https://localhost:8080/",
     "height": 424
    },
    "id": "KK3OQj-1vppz",
    "outputId": "137b949d-9acd-4093-cd87-35eb7188dbe4"
   },
   "outputs": [
    {
     "data": {
      "text/html": [
       "<div>\n",
       "<style scoped>\n",
       "    .dataframe tbody tr th:only-of-type {\n",
       "        vertical-align: middle;\n",
       "    }\n",
       "\n",
       "    .dataframe tbody tr th {\n",
       "        vertical-align: top;\n",
       "    }\n",
       "\n",
       "    .dataframe thead th {\n",
       "        text-align: right;\n",
       "    }\n",
       "</style>\n",
       "<table border=\"1\" class=\"dataframe\">\n",
       "  <thead>\n",
       "    <tr style=\"text-align: right;\">\n",
       "      <th></th>\n",
       "      <th>Año</th>\n",
       "      <th>Clave_Ent</th>\n",
       "      <th>Entidad</th>\n",
       "      <th>Bien jurídico afectado</th>\n",
       "      <th>Tipo de delito</th>\n",
       "      <th>Subtipo de delito</th>\n",
       "      <th>Modalidad</th>\n",
       "      <th>Enero</th>\n",
       "      <th>Febrero</th>\n",
       "      <th>Marzo</th>\n",
       "      <th>...</th>\n",
       "      <th>Junio</th>\n",
       "      <th>Julio</th>\n",
       "      <th>Agosto</th>\n",
       "      <th>Septiembre</th>\n",
       "      <th>Octubre</th>\n",
       "      <th>Noviembre</th>\n",
       "      <th>Diciembre</th>\n",
       "      <th>Total delitos</th>\n",
       "      <th>Sexo/Averiguación previa</th>\n",
       "      <th>Rango de edad</th>\n",
       "    </tr>\n",
       "  </thead>\n",
       "  <tbody>\n",
       "    <tr>\n",
       "      <th>0</th>\n",
       "      <td>2015</td>\n",
       "      <td>1</td>\n",
       "      <td>Aguascalientes</td>\n",
       "      <td>La libertad y la seguridad sexual</td>\n",
       "      <td>Delito sexual</td>\n",
       "      <td>Abuso sexual</td>\n",
       "      <td>Abuso sexual</td>\n",
       "      <td>6</td>\n",
       "      <td>4</td>\n",
       "      <td>0.0</td>\n",
       "      <td>...</td>\n",
       "      <td>1.0</td>\n",
       "      <td>1.0</td>\n",
       "      <td>1.0</td>\n",
       "      <td>0.0</td>\n",
       "      <td>0.0</td>\n",
       "      <td>1.0</td>\n",
       "      <td>1.0</td>\n",
       "      <td>18</td>\n",
       "      <td>Averiguación previa</td>\n",
       "      <td>No aplica</td>\n",
       "    </tr>\n",
       "    <tr>\n",
       "      <th>1</th>\n",
       "      <td>2015</td>\n",
       "      <td>1</td>\n",
       "      <td>Aguascalientes</td>\n",
       "      <td>La libertad y la seguridad sexual</td>\n",
       "      <td>Delito sexual</td>\n",
       "      <td>Acoso sexual</td>\n",
       "      <td>Acoso sexual</td>\n",
       "      <td>0</td>\n",
       "      <td>0</td>\n",
       "      <td>0.0</td>\n",
       "      <td>...</td>\n",
       "      <td>0.0</td>\n",
       "      <td>0.0</td>\n",
       "      <td>0.0</td>\n",
       "      <td>0.0</td>\n",
       "      <td>0.0</td>\n",
       "      <td>0.0</td>\n",
       "      <td>0.0</td>\n",
       "      <td>0</td>\n",
       "      <td>Averiguación previa</td>\n",
       "      <td>No aplica</td>\n",
       "    </tr>\n",
       "    <tr>\n",
       "      <th>2</th>\n",
       "      <td>2015</td>\n",
       "      <td>1</td>\n",
       "      <td>Aguascalientes</td>\n",
       "      <td>La libertad y la seguridad sexual</td>\n",
       "      <td>Delito sexual</td>\n",
       "      <td>Hostigamiento sexual</td>\n",
       "      <td>Hostigamiento sexual</td>\n",
       "      <td>1</td>\n",
       "      <td>1</td>\n",
       "      <td>0.0</td>\n",
       "      <td>...</td>\n",
       "      <td>0.0</td>\n",
       "      <td>1.0</td>\n",
       "      <td>0.0</td>\n",
       "      <td>0.0</td>\n",
       "      <td>1.0</td>\n",
       "      <td>0.0</td>\n",
       "      <td>3.0</td>\n",
       "      <td>11</td>\n",
       "      <td>Averiguación previa</td>\n",
       "      <td>No aplica</td>\n",
       "    </tr>\n",
       "    <tr>\n",
       "      <th>3</th>\n",
       "      <td>2015</td>\n",
       "      <td>1</td>\n",
       "      <td>Aguascalientes</td>\n",
       "      <td>La libertad y la seguridad sexual</td>\n",
       "      <td>Violación</td>\n",
       "      <td>Violación simple</td>\n",
       "      <td>Violación simple</td>\n",
       "      <td>5</td>\n",
       "      <td>5</td>\n",
       "      <td>3.0</td>\n",
       "      <td>...</td>\n",
       "      <td>15.0</td>\n",
       "      <td>8.0</td>\n",
       "      <td>8.0</td>\n",
       "      <td>6.0</td>\n",
       "      <td>9.0</td>\n",
       "      <td>5.0</td>\n",
       "      <td>6.0</td>\n",
       "      <td>84</td>\n",
       "      <td>Averiguación previa</td>\n",
       "      <td>No aplica</td>\n",
       "    </tr>\n",
       "    <tr>\n",
       "      <th>4</th>\n",
       "      <td>2015</td>\n",
       "      <td>1</td>\n",
       "      <td>Aguascalientes</td>\n",
       "      <td>La libertad y la seguridad sexual</td>\n",
       "      <td>Violación</td>\n",
       "      <td>Violación equiparada</td>\n",
       "      <td>Violación equiparada</td>\n",
       "      <td>0</td>\n",
       "      <td>5</td>\n",
       "      <td>3.0</td>\n",
       "      <td>...</td>\n",
       "      <td>4.0</td>\n",
       "      <td>4.0</td>\n",
       "      <td>4.0</td>\n",
       "      <td>3.0</td>\n",
       "      <td>5.0</td>\n",
       "      <td>3.0</td>\n",
       "      <td>0.0</td>\n",
       "      <td>41</td>\n",
       "      <td>Averiguación previa</td>\n",
       "      <td>No aplica</td>\n",
       "    </tr>\n",
       "    <tr>\n",
       "      <th>...</th>\n",
       "      <td>...</td>\n",
       "      <td>...</td>\n",
       "      <td>...</td>\n",
       "      <td>...</td>\n",
       "      <td>...</td>\n",
       "      <td>...</td>\n",
       "      <td>...</td>\n",
       "      <td>...</td>\n",
       "      <td>...</td>\n",
       "      <td>...</td>\n",
       "      <td>...</td>\n",
       "      <td>...</td>\n",
       "      <td>...</td>\n",
       "      <td>...</td>\n",
       "      <td>...</td>\n",
       "      <td>...</td>\n",
       "      <td>...</td>\n",
       "      <td>...</td>\n",
       "      <td>...</td>\n",
       "      <td>...</td>\n",
       "      <td>...</td>\n",
       "    </tr>\n",
       "    <tr>\n",
       "      <th>84091</th>\n",
       "      <td>2023</td>\n",
       "      <td>32</td>\n",
       "      <td>Zacatecas</td>\n",
       "      <td>Libertad personal</td>\n",
       "      <td>Otros delitos que atentan contra la libertad p...</td>\n",
       "      <td>Otros delitos que atentan contra la libertad p...</td>\n",
       "      <td>Otros delitos que atentan contra la libertad p...</td>\n",
       "      <td>0</td>\n",
       "      <td>0</td>\n",
       "      <td>NaN</td>\n",
       "      <td>...</td>\n",
       "      <td>NaN</td>\n",
       "      <td>NaN</td>\n",
       "      <td>NaN</td>\n",
       "      <td>NaN</td>\n",
       "      <td>NaN</td>\n",
       "      <td>NaN</td>\n",
       "      <td>NaN</td>\n",
       "      <td>0</td>\n",
       "      <td>No identificado</td>\n",
       "      <td>No identificado</td>\n",
       "    </tr>\n",
       "    <tr>\n",
       "      <th>84092</th>\n",
       "      <td>2023</td>\n",
       "      <td>32</td>\n",
       "      <td>Zacatecas</td>\n",
       "      <td>El patrimonio</td>\n",
       "      <td>Extorsión</td>\n",
       "      <td>Extorsión</td>\n",
       "      <td>Extorsión</td>\n",
       "      <td>0</td>\n",
       "      <td>0</td>\n",
       "      <td>NaN</td>\n",
       "      <td>...</td>\n",
       "      <td>NaN</td>\n",
       "      <td>NaN</td>\n",
       "      <td>NaN</td>\n",
       "      <td>NaN</td>\n",
       "      <td>NaN</td>\n",
       "      <td>NaN</td>\n",
       "      <td>NaN</td>\n",
       "      <td>0</td>\n",
       "      <td>No identificado</td>\n",
       "      <td>No identificado</td>\n",
       "    </tr>\n",
       "    <tr>\n",
       "      <th>84093</th>\n",
       "      <td>2023</td>\n",
       "      <td>32</td>\n",
       "      <td>Zacatecas</td>\n",
       "      <td>La sociedad</td>\n",
       "      <td>Corrupción de menores</td>\n",
       "      <td>Corrupción de menores</td>\n",
       "      <td>Corrupción de menores</td>\n",
       "      <td>0</td>\n",
       "      <td>0</td>\n",
       "      <td>NaN</td>\n",
       "      <td>...</td>\n",
       "      <td>NaN</td>\n",
       "      <td>NaN</td>\n",
       "      <td>NaN</td>\n",
       "      <td>NaN</td>\n",
       "      <td>NaN</td>\n",
       "      <td>NaN</td>\n",
       "      <td>NaN</td>\n",
       "      <td>0</td>\n",
       "      <td>No identificado</td>\n",
       "      <td>No identificado</td>\n",
       "    </tr>\n",
       "    <tr>\n",
       "      <th>84094</th>\n",
       "      <td>2023</td>\n",
       "      <td>32</td>\n",
       "      <td>Zacatecas</td>\n",
       "      <td>La sociedad</td>\n",
       "      <td>Trata de personas</td>\n",
       "      <td>Trata de personas</td>\n",
       "      <td>Trata de personas</td>\n",
       "      <td>1</td>\n",
       "      <td>0</td>\n",
       "      <td>NaN</td>\n",
       "      <td>...</td>\n",
       "      <td>NaN</td>\n",
       "      <td>NaN</td>\n",
       "      <td>NaN</td>\n",
       "      <td>NaN</td>\n",
       "      <td>NaN</td>\n",
       "      <td>NaN</td>\n",
       "      <td>NaN</td>\n",
       "      <td>1</td>\n",
       "      <td>No identificado</td>\n",
       "      <td>No identificado</td>\n",
       "    </tr>\n",
       "    <tr>\n",
       "      <th>84095</th>\n",
       "      <td>2023</td>\n",
       "      <td>32</td>\n",
       "      <td>Zacatecas</td>\n",
       "      <td>La sociedad</td>\n",
       "      <td>Otros delitos contra la sociedad</td>\n",
       "      <td>Otros delitos contra la sociedad</td>\n",
       "      <td>Otros delitos contra la sociedad</td>\n",
       "      <td>0</td>\n",
       "      <td>0</td>\n",
       "      <td>NaN</td>\n",
       "      <td>...</td>\n",
       "      <td>NaN</td>\n",
       "      <td>NaN</td>\n",
       "      <td>NaN</td>\n",
       "      <td>NaN</td>\n",
       "      <td>NaN</td>\n",
       "      <td>NaN</td>\n",
       "      <td>NaN</td>\n",
       "      <td>0</td>\n",
       "      <td>No identificado</td>\n",
       "      <td>No identificado</td>\n",
       "    </tr>\n",
       "  </tbody>\n",
       "</table>\n",
       "<p>84096 rows × 22 columns</p>\n",
       "</div>"
      ],
      "text/plain": [
       "        Año  Clave_Ent         Entidad             Bien jurídico afectado  \\\n",
       "0      2015          1  Aguascalientes  La libertad y la seguridad sexual   \n",
       "1      2015          1  Aguascalientes  La libertad y la seguridad sexual   \n",
       "2      2015          1  Aguascalientes  La libertad y la seguridad sexual   \n",
       "3      2015          1  Aguascalientes  La libertad y la seguridad sexual   \n",
       "4      2015          1  Aguascalientes  La libertad y la seguridad sexual   \n",
       "...     ...        ...             ...                                ...   \n",
       "84091  2023         32       Zacatecas                  Libertad personal   \n",
       "84092  2023         32       Zacatecas                      El patrimonio   \n",
       "84093  2023         32       Zacatecas                        La sociedad   \n",
       "84094  2023         32       Zacatecas                        La sociedad   \n",
       "84095  2023         32       Zacatecas                        La sociedad   \n",
       "\n",
       "                                          Tipo de delito  \\\n",
       "0                                          Delito sexual   \n",
       "1                                          Delito sexual   \n",
       "2                                          Delito sexual   \n",
       "3                                              Violación   \n",
       "4                                              Violación   \n",
       "...                                                  ...   \n",
       "84091  Otros delitos que atentan contra la libertad p...   \n",
       "84092                                          Extorsión   \n",
       "84093                              Corrupción de menores   \n",
       "84094                                  Trata de personas   \n",
       "84095                   Otros delitos contra la sociedad   \n",
       "\n",
       "                                       Subtipo de delito  \\\n",
       "0                                           Abuso sexual   \n",
       "1                                           Acoso sexual   \n",
       "2                                   Hostigamiento sexual   \n",
       "3                                       Violación simple   \n",
       "4                                   Violación equiparada   \n",
       "...                                                  ...   \n",
       "84091  Otros delitos que atentan contra la libertad p...   \n",
       "84092                                          Extorsión   \n",
       "84093                              Corrupción de menores   \n",
       "84094                                  Trata de personas   \n",
       "84095                   Otros delitos contra la sociedad   \n",
       "\n",
       "                                               Modalidad  Enero  Febrero  \\\n",
       "0                                           Abuso sexual      6        4   \n",
       "1                                           Acoso sexual      0        0   \n",
       "2                                   Hostigamiento sexual      1        1   \n",
       "3                                       Violación simple      5        5   \n",
       "4                                   Violación equiparada      0        5   \n",
       "...                                                  ...    ...      ...   \n",
       "84091  Otros delitos que atentan contra la libertad p...      0        0   \n",
       "84092                                          Extorsión      0        0   \n",
       "84093                              Corrupción de menores      0        0   \n",
       "84094                                  Trata de personas      1        0   \n",
       "84095                   Otros delitos contra la sociedad      0        0   \n",
       "\n",
       "       Marzo  ...  Junio  Julio  Agosto  Septiembre  Octubre  Noviembre  \\\n",
       "0        0.0  ...    1.0    1.0     1.0         0.0      0.0        1.0   \n",
       "1        0.0  ...    0.0    0.0     0.0         0.0      0.0        0.0   \n",
       "2        0.0  ...    0.0    1.0     0.0         0.0      1.0        0.0   \n",
       "3        3.0  ...   15.0    8.0     8.0         6.0      9.0        5.0   \n",
       "4        3.0  ...    4.0    4.0     4.0         3.0      5.0        3.0   \n",
       "...      ...  ...    ...    ...     ...         ...      ...        ...   \n",
       "84091    NaN  ...    NaN    NaN     NaN         NaN      NaN        NaN   \n",
       "84092    NaN  ...    NaN    NaN     NaN         NaN      NaN        NaN   \n",
       "84093    NaN  ...    NaN    NaN     NaN         NaN      NaN        NaN   \n",
       "84094    NaN  ...    NaN    NaN     NaN         NaN      NaN        NaN   \n",
       "84095    NaN  ...    NaN    NaN     NaN         NaN      NaN        NaN   \n",
       "\n",
       "       Diciembre  Total delitos  Sexo/Averiguación previa    Rango de edad  \n",
       "0            1.0             18       Averiguación previa        No aplica  \n",
       "1            0.0              0       Averiguación previa        No aplica  \n",
       "2            3.0             11       Averiguación previa        No aplica  \n",
       "3            6.0             84       Averiguación previa        No aplica  \n",
       "4            0.0             41       Averiguación previa        No aplica  \n",
       "...          ...            ...                       ...              ...  \n",
       "84091        NaN              0           No identificado  No identificado  \n",
       "84092        NaN              0           No identificado  No identificado  \n",
       "84093        NaN              0           No identificado  No identificado  \n",
       "84094        NaN              1           No identificado  No identificado  \n",
       "84095        NaN              0           No identificado  No identificado  \n",
       "\n",
       "[84096 rows x 22 columns]"
      ]
     },
     "execution_count": 3,
     "metadata": {},
     "output_type": "execute_result"
    }
   ],
   "source": [
    "# Read CSV\n",
    "\n",
    "df = pd.read_csv('Crimen_mx.csv', encoding='utf-8')\n",
    "df"
   ]
  },
  {
   "cell_type": "markdown",
   "id": "HI70rS5v31_l",
   "metadata": {
    "id": "HI70rS5v31_l"
   },
   "source": [
    "## BUSINESS ANALYTIC\n",
    "\n"
   ]
  },
  {
   "cell_type": "code",
   "execution_count": null,
   "id": "SKuLhCZdT31_",
   "metadata": {
    "colab": {
     "base_uri": "https://localhost:8080/"
    },
    "id": "SKuLhCZdT31_",
    "outputId": "cb594d41-44a8-4daa-90c5-f33c7c1d8b4b"
   },
   "outputs": [],
   "source": [
    "# Visualizar metadata\n",
    "df.info()"
   ]
  },
  {
   "cell_type": "code",
   "execution_count": null,
   "id": "1YsJL0A14BIw",
   "metadata": {
    "colab": {
     "base_uri": "https://localhost:8080/"
    },
    "id": "1YsJL0A14BIw",
    "outputId": "7d1be8b4-7eda-4b6b-c652-ed7f5afecdfc"
   },
   "outputs": [],
   "source": [
    "# Análisis de nulos\n",
    "df.isna().sum().sort_values(ascending = False)"
   ]
  },
  {
   "cell_type": "code",
   "execution_count": null,
   "id": "l67Qo5NV2Z6b",
   "metadata": {
    "colab": {
     "base_uri": "https://localhost:8080/",
     "height": 424
    },
    "id": "l67Qo5NV2Z6b",
    "outputId": "431bf259-3e73-4c41-fc27-90ffdad10172"
   },
   "outputs": [],
   "source": [
    "#mostrar los datos nulos\n",
    "df.isnull()"
   ]
  },
  {
   "cell_type": "code",
   "execution_count": null,
   "id": "FCjqsuH_3d6s",
   "metadata": {
    "colab": {
     "base_uri": "https://localhost:8080/"
    },
    "id": "FCjqsuH_3d6s",
    "outputId": "0eba28e9-aafd-44d5-8f7d-0d8ed9053ce3"
   },
   "outputs": [],
   "source": [
    "#Total de datos nulos\n",
    "df.isnull().sum()"
   ]
  },
  {
   "cell_type": "code",
   "execution_count": null,
   "id": "nUwZ0yqj4N1i",
   "metadata": {
    "id": "nUwZ0yqj4N1i"
   },
   "outputs": [],
   "source": [
    "#Eliminamos las filas con valores nulos\n",
    "df_clear = df.fillna(0)"
   ]
  },
  {
   "cell_type": "code",
   "execution_count": null,
   "id": "wkil-p9u4ZOC",
   "metadata": {
    "colab": {
     "base_uri": "https://localhost:8080/"
    },
    "id": "wkil-p9u4ZOC",
    "outputId": "bfc8e374-a6ef-46e4-93e6-7f460588f433"
   },
   "outputs": [],
   "source": [
    "#Volvemos a verificar los valores\n",
    "df_clear.isna().sum().sort_values(ascending = False)"
   ]
  },
  {
   "cell_type": "code",
   "execution_count": null,
   "id": "jeu2nIp20K_O",
   "metadata": {
    "colab": {
     "base_uri": "https://localhost:8080/"
    },
    "id": "jeu2nIp20K_O",
    "outputId": "415d9b74-8105-4714-eadf-91e3e4726c31"
   },
   "outputs": [],
   "source": [
    "#Analisis de tipo de datos\n",
    "df.dtypes"
   ]
  },
  {
   "cell_type": "markdown",
   "id": "m2GulBYb4ndr",
   "metadata": {
    "id": "m2GulBYb4ndr"
   },
   "source": [
    "**Conclusiones**\n",
    "Tenemos un dataset con datos nulos, las cuales se identificaran y se eliminaron las filas de valores nulos, las cuales correspondian a los delitos del año 2023 ya que solo hay registros hasta Febrero y el resto de meses no hay"
   ]
  },
  {
   "cell_type": "markdown",
   "id": "1ww1vUcB0cfC",
   "metadata": {
    "id": "1ww1vUcB0cfC"
   },
   "source": [
    "## ANALISIS VARIABLES CATEGORICAS"
   ]
  },
  {
   "cell_type": "markdown",
   "id": "0kCfeRP-DKB9",
   "metadata": {
    "id": "0kCfeRP-DKB9"
   },
   "source": [
    "#### EDA VARIABLES NUMÉRICAS"
   ]
  },
  {
   "cell_type": "code",
   "execution_count": null,
   "id": "Qluh0CooAxUM",
   "metadata": {
    "id": "Qluh0CooAxUM"
   },
   "outputs": [],
   "source": [
    "def graficos_eda_categoricos(cat):\n",
    "    \n",
    "    #Calculamos el número de filas que necesitamos\n",
    "    from math import ceil\n",
    "    filas = ceil(cat.shape[1] / 1)\n",
    "\n",
    "    #Definimos el gráfico\n",
    "    f, ax = plt.subplots(nrows = filas, ncols = 1, figsize = (10, filas * 10))\n",
    "\n",
    "    #Aplanamos para iterar por el gráfico como si fuera de 1 dimensión en lugar de 2\n",
    "    ax = ax.flat \n",
    "\n",
    "    #Creamos el bucle que va añadiendo gráficos\n",
    "    for cada, variable in enumerate(cat):\n",
    "        cat[variable].value_counts().plot.barh(ax = ax[cada])\n",
    "        ax[cada].set_title(variable, fontsize = 12, fontweight = \"bold\")\n",
    "        ax[cada].tick_params(labelsize = 12)"
   ]
  },
  {
   "cell_type": "markdown",
   "id": "gkCXVOI4EZvh",
   "metadata": {
    "id": "gkCXVOI4EZvh"
   },
   "source": [
    "Eliminamos las columnas que no son de nuestro interes y solo mostramos los que si"
   ]
  },
  {
   "cell_type": "code",
   "execution_count": null,
   "id": "_8nNOLMbvXb-",
   "metadata": {
    "id": "_8nNOLMbvXb-"
   },
   "outputs": [],
   "source": [
    "df_select=df_clear.loc[:, ['Bien jurídico afectado','Subtipo de delito','Modalidad','Sexo/Averiguación previa','Rango de edad']]"
   ]
  },
  {
   "cell_type": "code",
   "execution_count": null,
   "id": "UKeRfyoFA80c",
   "metadata": {
    "colab": {
     "base_uri": "https://localhost:8080/",
     "height": 1000
    },
    "id": "UKeRfyoFA80c",
    "outputId": "65569f01-7a05-4917-ad04-6aea3f9d7c82"
   },
   "outputs": [],
   "source": [
    "graficos_eda_categoricos(df_select.select_dtypes('O'))"
   ]
  },
  {
   "cell_type": "markdown",
   "id": "Q8LC29fkDqVX",
   "metadata": {
    "id": "Q8LC29fkDqVX"
   },
   "source": [
    "### Conclusiones\n",
    "\n",
    "*   El análisis de las variables categóricas muestra algunas tendencias interesantes en cuanto a la distribución de los datos.\n",
    "\n",
    "*   La variable \"sexo/averiguacion previa\" muestra una distribución bastante uniforme, con la mayoría de los deitos comentidos sufren el genero \"Mujer\", siguiendo del genero \"Masculino\", lo que sugiere que los crimes estan siendo afectado mas a Mujeres.\n",
    "\n",
    "*   La variable \"Modalidad\" muestra que en la mayoria de los delitos son cometidos con armas de fuego, asi como arma blanca y accidentes de trafico, lo que se sugiere que en la sociedad se debe de tener en cuenta la situacion del manejo de armas y tomar precaciones en el trafico. \n",
    "\n",
    "*   La variable \"Bien juridico afectado\" muestra que la mayoría de los delitos cometidos afecta en \"La vida y la Integracion corporal\", seguido de Libertad persinal y Patrimonio. Por lo que se sugiere dar mas atencion en los derechos humanos de las personas que estan siendo afectadas.\n",
    "\n",
    "*   La variable \"Rango de edad\" muestra que la mayoría de los delitos estan afectos en Menores de edad, asi como en Adultos y tambien a quienes no han sido afectados por lo que es importante que el gobierno se centre en la sociedad de ese rango de edad para salvaguardar su seguridad.\n",
    "\n",
    "En general, este análisis exploratorio proporciona información valiosa sobre las características de los afectados de los crimenes en la Republica Mexicana, lo que puede ayudar a la empresa a enfocarse al Estado con mayor crimenes y tomar acciones."
   ]
  },
  {
   "cell_type": "markdown",
   "id": "SqeoTH_e2th9",
   "metadata": {
    "id": "SqeoTH_e2th9"
   },
   "source": [
    "## ANALISIS VARIABLES NUMERICAS"
   ]
  },
  {
   "cell_type": "code",
   "execution_count": null,
   "id": "ph5LsC0J21wz",
   "metadata": {
    "id": "ph5LsC0J21wz"
   },
   "outputs": [],
   "source": [
    "def estadisticos_cont(num):\n",
    "    #Calculamos describe\n",
    "    estadisticos = num.describe().T\n",
    "    #Añadimos la mediana\n",
    "    estadisticos['median'] = num.median()\n",
    "    #Reordenamos para que la mediana esté al lado de la media\n",
    "    estadisticos = estadisticos.iloc[:,[0,1,8,2,3,4,5,6,7,8]]\n",
    "    #Lo devolvemos\n",
    "    return(estadisticos)"
   ]
  },
  {
   "cell_type": "code",
   "execution_count": null,
   "id": "jYkCdgXp25Rk",
   "metadata": {
    "colab": {
     "base_uri": "https://localhost:8080/",
     "height": 520
    },
    "id": "jYkCdgXp25Rk",
    "outputId": "bf61dbf0-f3b9-4b99-e7c4-8d7baf1f4e86"
   },
   "outputs": [],
   "source": [
    "estadisticos_cont(df_clear.select_dtypes('number'))"
   ]
  },
  {
   "cell_type": "markdown",
   "id": "XQ9ubYt35vOy",
   "metadata": {
    "id": "XQ9ubYt35vOy"
   },
   "source": [
    "### Conclusiones\n",
    "\n",
    "De los nulos pendientes de imputación que sean numéricas solo hay en los campos Enero, Febrero, Marzo, Abril, Mayo, junio, Julio, Agosto, Septiembre, Octubre ,Noviembre, Diciembre, pero como se reemplazaron las filas nulos por 0 de esos registros ya no hay que imputar nada"
   ]
  },
  {
   "cell_type": "markdown",
   "id": "zWAWBCcq52Zx",
   "metadata": {
    "id": "zWAWBCcq52Zx"
   },
   "source": [
    "## GENERACIÓN DE INSIGHTS"
   ]
  },
  {
   "cell_type": "markdown",
   "id": "w1UiW-1D3esN",
   "metadata": {
    "id": "w1UiW-1D3esN"
   },
   "source": [
    "### Cual es la tasa de Estados segun los reportes de delitos?"
   ]
  },
  {
   "cell_type": "code",
   "execution_count": null,
   "id": "psFujjYj5ytc",
   "metadata": {
    "colab": {
     "base_uri": "https://localhost:8080/",
     "height": 1000
    },
    "id": "psFujjYj5ytc",
    "outputId": "eb307d06-b8ab-4351-c709-e4cf6bff440b"
   },
   "outputs": [],
   "source": [
    "df_delitos = df_clear.groupby('Entidad').sum()\n",
    "df_delitos.reset_index()"
   ]
  },
  {
   "cell_type": "code",
   "execution_count": null,
   "id": "Mv96nYoQAtzZ",
   "metadata": {
    "colab": {
     "base_uri": "https://localhost:8080/",
     "height": 1000
    },
    "id": "Mv96nYoQAtzZ",
    "outputId": "4e61ed70-ba0a-4744-970e-f9f4114cf11f"
   },
   "outputs": [],
   "source": [
    "sns.set(rc = {'figure.figsize':(40,10)})\n",
    "#plot = sns.lineplot( x=name, y=value)\n",
    "plot = sns.barplot(data=df_clear, x=\"Entidad\", y=\"Total delitos\")\n",
    "plot.axes.set_title(\"Violencia en cada estado\",fontsize=30)\n",
    "plt.xticks(rotation=45)\n",
    "plt.show()"
   ]
  },
  {
   "cell_type": "markdown",
   "id": "l78UGvHF9KCY",
   "metadata": {
    "id": "l78UGvHF9KCY"
   },
   "source": [
    "### Análisis del comportamiento del Tipo de violencia con el estado con mayor violencia"
   ]
  },
  {
   "cell_type": "code",
   "execution_count": null,
   "id": "1RVB85QJE5Jm",
   "metadata": {
    "colab": {
     "base_uri": "https://localhost:8080/",
     "height": 424
    },
    "id": "1RVB85QJE5Jm",
    "outputId": "fb5e9196-b776-48e9-f0f5-88f058b1c59f"
   },
   "outputs": [],
   "source": [
    "#df= df[(df.Entidad.isin([\"Oaxaca\",\"Puebla\"]))]\n",
    "df_Mexico = df_clear[df_clear['Entidad'] == 'México']\n",
    "df_Mexico.reset_index()"
   ]
  },
  {
   "cell_type": "code",
   "execution_count": null,
   "id": "oJEu2J2ZDi2t",
   "metadata": {
    "colab": {
     "base_uri": "https://localhost:8080/",
     "height": 1000
    },
    "id": "oJEu2J2ZDi2t",
    "outputId": "30c04bb6-151d-4629-ffff-f3972750b3bd"
   },
   "outputs": [],
   "source": [
    "sns.set(rc = {'figure.figsize':(40,10)})\n",
    "# Este plot es para graficar sobre los tipos de delitos que mas ocurre en el estado con mayor violencia\n",
    "violencia_oaxaca=df_Mexico['Tipo de delito'].value_counts(normalize = True) * 100 \n",
    "sns.set_style(\"darkgrid\") \n",
    "plt.figure(figsize=(10,5)) \n",
    "plot= sns.barplot(x=violencia_oaxaca.index, y=violencia_oaxaca.values) \n",
    "plot.axes.set_title(\"Tipo de delito en el estado de Mexico\",fontsize=20)\n",
    "# Rotation of the bars names\n",
    "plt.xticks(rotation=90, ha='right')\n",
    "plt.show()"
   ]
  },
  {
   "cell_type": "code",
   "execution_count": null,
   "id": "NYIl7dPdek-V",
   "metadata": {
    "colab": {
     "base_uri": "https://localhost:8080/",
     "height": 1000
    },
    "id": "NYIl7dPdek-V",
    "outputId": "e7426439-da02-4164-893b-e7c42d7a5f31"
   },
   "outputs": [],
   "source": [
    "sns.set(rc = {'figure.figsize':(40,10)})\n",
    "# Este plot es para graficar sobre la Modalidad que mas ocurre en el estado con mayor violencia\n",
    "violencia_oaxaca=df_Mexico['Modalidad'].value_counts(normalize = True) * 100 \n",
    "sns.set_style(\"darkgrid\") \n",
    "plt.figure(figsize=(10,5)) \n",
    "plot = sns.barplot(x=violencia_oaxaca.index, y=violencia_oaxaca.values)\n",
    "plot.axes.set_title(\"Modalidad es que se comenten los delitos en el estado Mexico\",fontsize=20)\n",
    "\n",
    "# Rotation of the bars names\n",
    "plt.xticks(rotation=90, ha='right')\n",
    "plt.show()"
   ]
  },
  {
   "cell_type": "code",
   "execution_count": null,
   "id": "0zfefnuciLIH",
   "metadata": {
    "colab": {
     "base_uri": "https://localhost:8080/",
     "height": 854
    },
    "id": "0zfefnuciLIH",
    "outputId": "b4016558-c34d-48bd-d43b-d172127bb9cd"
   },
   "outputs": [],
   "source": [
    "\n",
    "sns.set(rc = {'figure.figsize':(40,10)})\n",
    "# Este plot es para graficar sobre la Modalidad que mas ocurre en el estado con mayor violencia\n",
    "violencia_puebla=df_Mexico['Bien jurídico afectado'].value_counts(normalize = True) * 100 \n",
    "sns.set_style(\"darkgrid\") \n",
    "plt.figure(figsize=(10,5)) \n",
    "plot = sns.barplot(x=violencia_puebla.index, y=violencia_puebla.values) \n",
    "plot.axes.set_title(\"Bien jurídico afectado en el estado de Mexico\",fontsize=20)\n",
    "\n",
    "# Rotation of the bars names\n",
    "plt.xticks(rotation=90, ha='right')\n",
    "plt.show()"
   ]
  },
  {
   "cell_type": "code",
   "execution_count": null,
   "id": "C7fF6YdBCWnr",
   "metadata": {
    "colab": {
     "base_uri": "https://localhost:8080/",
     "height": 649
    },
    "id": "C7fF6YdBCWnr",
    "outputId": "a041f54d-7337-46e0-9fef-f6310b232aa4"
   },
   "outputs": [],
   "source": [
    "sns.set(rc = {'figure.figsize':(40,10)})\n",
    "# Este plot es para graficar sobre la Modalidad que mas ocurre en el estado con mayor violencia\n",
    "violencia_puebla=df_Mexico['Rango de edad'].value_counts(normalize = True) * 100 \n",
    "sns.set_style(\"darkgrid\") \n",
    "plt.figure(figsize=(10,5)) \n",
    "plot = sns.barplot(x=violencia_puebla.index, y=violencia_puebla.values) \n",
    "plot.axes.set_title(\"Rango de edades afectados por violencia en el estado de Mexico\",fontsize=20)\n",
    "\n",
    "# Rotation of the bars names\n",
    "plt.xticks(rotation=90, ha='right')\n",
    "plt.show()"
   ]
  },
  {
   "cell_type": "code",
   "execution_count": null,
   "id": "d-WLD5dHiUCO",
   "metadata": {
    "colab": {
     "base_uri": "https://localhost:8080/",
     "height": 617
    },
    "id": "d-WLD5dHiUCO",
    "outputId": "b5ef1504-ad31-4d32-fa48-17eb8bb3ba93"
   },
   "outputs": [],
   "source": [
    "\n",
    "sns.set(rc = {'figure.figsize':(40,10)})\n",
    "# Este plot es para graficar sobre la Modalidad que mas ocurre en el estado con mayor violencia\n",
    "violencia_puebla=df_Mexico['Sexo/Averiguación previa'].value_counts(normalize = True) * 100 \n",
    "sns.set_style(\"darkgrid\") \n",
    "plt.figure(figsize=(10,5)) \n",
    "plot = sns.barplot(x=violencia_puebla.index, y=violencia_puebla.values) \n",
    "plot.axes.set_title(\"Sexo con mayores afecciones\",fontsize=20)\n",
    "\n",
    "# Rotation of the bars names\n",
    "plt.xticks(rotation=90, ha='right')\n",
    "plt.show()"
   ]
  },
  {
   "cell_type": "markdown",
   "id": "C4cZpN66S-Oe",
   "metadata": {
    "id": "C4cZpN66S-Oe"
   },
   "source": [
    "### Conslusiones\n",
    "Sobre el estudio del Estado con mayor violencia:\n",
    "\n",
    "Entre los 32 estados que conforman Mexico, el Estado de Mexico es que tiene un mayor reporte de casos de violencia reportados en el periodo de 2015 a febrero de 2023, superando los 450mil delitos"
   ]
  },
  {
   "cell_type": "markdown",
   "id": "y05UipFxgFFH",
   "metadata": {
    "id": "y05UipFxgFFH"
   },
   "source": [
    "## ANALISIS DE PERFIL"
   ]
  },
  {
   "cell_type": "markdown",
   "id": "g_kFabohjjuV",
   "metadata": {
    "id": "g_kFabohjjuV"
   },
   "source": [
    "### Entonces, Que estado es mas riesgoso?"
   ]
  },
  {
   "cell_type": "code",
   "execution_count": null,
   "id": "TbcvxFqjj3FD",
   "metadata": {
    "colab": {
     "base_uri": "https://localhost:8080/",
     "height": 424
    },
    "id": "TbcvxFqjj3FD",
    "outputId": "fe51a97e-3d7c-403a-fbac-9e15ad5e00f4"
   },
   "outputs": [],
   "source": [
    "# Read CSV\n",
    "df = pd.read_csv('Crimen_mx.csv', encoding='utf-8')\n",
    "df_clear = df.fillna(0)\n",
    "df_clear"
   ]
  },
  {
   "cell_type": "code",
   "execution_count": null,
   "id": "Ngv5hmyRj8EY",
   "metadata": {
    "colab": {
     "base_uri": "https://localhost:8080/",
     "height": 424
    },
    "id": "Ngv5hmyRj8EY",
    "outputId": "01cd175b-a6db-40fd-c52e-db0e3624695a"
   },
   "outputs": [],
   "source": [
    "df_Mexico = df_clear.loc[df_clear['Entidad']=='México']\n",
    "df_Mexico"
   ]
  },
  {
   "cell_type": "markdown",
   "id": "iTDtoU2gm7GG",
   "metadata": {
    "id": "iTDtoU2gm7GG"
   },
   "source": [
    "### Como es el comportamiento de la violencia en los respectivos meses?"
   ]
  },
  {
   "cell_type": "code",
   "execution_count": null,
   "id": "An6C3V48zdE7",
   "metadata": {
    "colab": {
     "base_uri": "https://localhost:8080/"
    },
    "id": "An6C3V48zdE7",
    "outputId": "e7d5fe31-9529-47be-a061-b76fb4d5d17b"
   },
   "outputs": [],
   "source": [
    "# Consultar la cantidad de delitos en Total por el Tipo de Homicidio\n",
    "df_delitos = df_Mexico['Tipo de delito'].value_counts()\n",
    "df_delitos"
   ]
  },
  {
   "cell_type": "code",
   "execution_count": null,
   "id": "0lForNFy0soV",
   "metadata": {
    "colab": {
     "base_uri": "https://localhost:8080/",
     "height": 1000
    },
    "id": "0lForNFy0soV",
    "outputId": "ca2719ea-e25f-4d10-bca4-023b0e3672e3"
   },
   "outputs": [],
   "source": [
    "plt.figure(figsize=(18,10))\n",
    "plt.xticks(rotation=90)\n",
    "sns.histplot(data=df_Mexico, x='Tipo de delito', hue=\"Año\", multiple=\"stack\")\n"
   ]
  },
  {
   "cell_type": "markdown",
   "id": "MMSbhYc15nR2",
   "metadata": {
    "id": "MMSbhYc15nR2"
   },
   "source": [
    "### Comportamiento de violencia por mes en los años"
   ]
  },
  {
   "cell_type": "code",
   "execution_count": null,
   "id": "alN79OSFGIai",
   "metadata": {
    "colab": {
     "base_uri": "https://localhost:8080/",
     "height": 398
    },
    "id": "alN79OSFGIai",
    "outputId": "19f93d8e-b7e9-4e75-8e9e-c7999ba0d2bf"
   },
   "outputs": [],
   "source": [
    "# Convertir la columna 'publish_time' al formato de fecha y hora\n",
    "df_año = df_Mexico.groupby('Año').sum()\n",
    "df_año"
   ]
  },
  {
   "cell_type": "code",
   "execution_count": null,
   "id": "H9BC1aMI51i-",
   "metadata": {
    "id": "H9BC1aMI51i-"
   },
   "outputs": [],
   "source": [
    "df_filter_año=df_año.loc[:, ['Enero','Febrero','Marzo','Abril','Mayo','Junio','Julio','Agosto','Septiembre','Octubre','Noviembre','Diciembre']]"
   ]
  },
  {
   "cell_type": "markdown",
   "id": "mo8UNZyH8LIp",
   "metadata": {
    "id": "mo8UNZyH8LIp"
   },
   "source": [
    "Seleccionamos solo las columnas a utilizar"
   ]
  },
  {
   "cell_type": "code",
   "execution_count": null,
   "id": "SdFWViBLGWOQ",
   "metadata": {
    "colab": {
     "base_uri": "https://localhost:8080/",
     "height": 854
    },
    "id": "SdFWViBLGWOQ",
    "outputId": "68cffa3f-d513-42dd-bd6c-476008d9333c"
   },
   "outputs": [],
   "source": [
    "sns.set_theme(style=\"darkgrid\")\n",
    "sns.set(rc = {'figure.figsize':(40,10)})\n",
    "b = sns.lineplot(data=df_filter_año)\n",
    "b.axes.set_title(\"Violancia en el transcurso de los años en los respectivos meses del 2015-2023\",fontsize=30)\n",
    "plt.show()"
   ]
  },
  {
   "cell_type": "markdown",
   "id": "WAJbWacqa-px",
   "metadata": {
    "id": "WAJbWacqa-px"
   },
   "source": [
    "### Afectaciones comunes en la sociedad de cada mes en el periodo 2015-2023"
   ]
  },
  {
   "cell_type": "code",
   "execution_count": null,
   "id": "QXL1CEdPaXVa",
   "metadata": {
    "colab": {
     "base_uri": "https://localhost:8080/",
     "height": 335
    },
    "id": "QXL1CEdPaXVa",
    "outputId": "8338004b-29ed-4bdf-dcf5-8c955ae9fc8c"
   },
   "outputs": [],
   "source": [
    "df_juridico = df_Mexico.groupby('Bien jurídico afectado').sum()\n",
    "df_juridico"
   ]
  },
  {
   "cell_type": "code",
   "execution_count": null,
   "id": "owhIuAr5as33",
   "metadata": {
    "colab": {
     "base_uri": "https://localhost:8080/",
     "height": 300
    },
    "id": "owhIuAr5as33",
    "outputId": "f85d02cb-b25c-43c2-bec4-9b8a95bd56ae"
   },
   "outputs": [],
   "source": [
    "columns_select = ['Enero','Febrero','Marzo','Abril','Mayo','Junio','Julio','Agosto','Septiembre','Octubre','Noviembre','Diciembre']\n",
    "df_filter_juridico = df_juridico[columns_select]\n",
    "df_filter_juridico "
   ]
  },
  {
   "cell_type": "code",
   "execution_count": null,
   "id": "VwxNS1V4aovF",
   "metadata": {
    "colab": {
     "base_uri": "https://localhost:8080/",
     "height": 1000
    },
    "id": "VwxNS1V4aovF",
    "outputId": "fd209d2c-72ce-4b3d-b2f7-435e384994a2"
   },
   "outputs": [],
   "source": [
    "sums=df_filter_juridico.sum(axis=1)\n",
    "df_filter_juridico.plot.bar();\n"
   ]
  },
  {
   "cell_type": "markdown",
   "id": "hVaXVKk_o7XH",
   "metadata": {
    "id": "hVaXVKk_o7XH"
   },
   "source": [
    "### Relacion de la Modalidad con el Tipo de delito"
   ]
  },
  {
   "cell_type": "code",
   "execution_count": null,
   "id": "JbbZwzsfpCNA",
   "metadata": {
    "colab": {
     "base_uri": "https://localhost:8080/",
     "height": 920
    },
    "id": "JbbZwzsfpCNA",
    "outputId": "cfe7ae41-eb60-4da5-d295-f1601b5f1a66"
   },
   "outputs": [],
   "source": [
    "fig = plt.figure(figsize = (40, 10))\n",
    "\n",
    "# Crear Grafica\n",
    "plt.scatter(df_Mexico['Tipo de delito'], df_Mexico['Modalidad'])\n",
    " \n",
    "plt.xlabel(\"Tipo de delito\", fontsize=15)\n",
    "plt.ylabel(\"Modalidad\", fontsize=15)\n",
    "# Rotation of the bars names\n",
    "plt.xticks(rotation=30, ha='right')\n",
    "plt.show()"
   ]
  },
  {
   "cell_type": "markdown",
   "id": "XRYoC9Z0EoBx",
   "metadata": {
    "id": "XRYoC9Z0EoBx"
   },
   "source": [
    "### Afecciones de la Edad con  el Tipo de delito"
   ]
  },
  {
   "cell_type": "code",
   "execution_count": null,
   "id": "o_PumTvBH06m",
   "metadata": {
    "colab": {
     "base_uri": "https://localhost:8080/",
     "height": 1000
    },
    "id": "o_PumTvBH06m",
    "outputId": "d04c1a7b-9c87-4079-a2be-71db1999d821"
   },
   "outputs": [],
   "source": [
    "plt.figure(figsize=(10,8))\n",
    "sns.histplot(data=df_Mexico, x='Tipo de delito' , hue=\"Rango de edad\", multiple=\"stack\")\n",
    "\n",
    "plt.xticks(rotation=90, ha='right')\n",
    "plt.xticks(rotation=90, ha='right')\n",
    "plt.show()"
   ]
  },
  {
   "cell_type": "markdown",
   "id": "qalCjk2pJQtM",
   "metadata": {
    "id": "qalCjk2pJQtM"
   },
   "source": [
    "### Afecciones de Usuarios con  el Tipo de delito"
   ]
  },
  {
   "cell_type": "code",
   "execution_count": null,
   "id": "pSrjADxhIFZR",
   "metadata": {
    "colab": {
     "base_uri": "https://localhost:8080/",
     "height": 1000
    },
    "id": "pSrjADxhIFZR",
    "outputId": "08e51ceb-e764-4095-f2f2-a4c8a86e4dd7"
   },
   "outputs": [],
   "source": [
    "plt.figure(figsize=(10,8))\n",
    "sns.histplot(data=df_Mexico, x='Tipo de delito' , hue=\"Sexo/Averiguación previa\", multiple=\"stack\")\n",
    "plt.xticks(rotation=90, ha='right')\n",
    "plt.show()"
   ]
  },
  {
   "cell_type": "markdown",
   "id": "0rBg2n82L8YB",
   "metadata": {
    "id": "0rBg2n82L8YB"
   },
   "source": [
    "### Incremento de violencia por año"
   ]
  },
  {
   "cell_type": "code",
   "execution_count": null,
   "id": "7SODDdCNoguX",
   "metadata": {
    "colab": {
     "base_uri": "https://localhost:8080/",
     "height": 332
    },
    "id": "7SODDdCNoguX",
    "outputId": "b707b191-cbc3-4a21-cee9-b8ae1779c997"
   },
   "outputs": [],
   "source": [
    "df_reset = df_filter_año.reset_index()\n",
    "df_reset"
   ]
  },
  {
   "cell_type": "code",
   "execution_count": null,
   "id": "hz-Id3RIKJ1p",
   "metadata": {
    "id": "hz-Id3RIKJ1p"
   },
   "outputs": [],
   "source": [
    "df_sum = df_año.groupby('Año').sum()\n",
    "df_meses=df_año.loc[:, ['Enero','Febrero','Marzo','Abril','Mayo','Junio','Julio','Agosto','Septiembre','Octubre','Noviembre','Diciembre']]"
   ]
  },
  {
   "cell_type": "code",
   "execution_count": null,
   "id": "F57V_GdBLzBl",
   "metadata": {
    "colab": {
     "base_uri": "https://localhost:8080/"
    },
    "id": "F57V_GdBLzBl",
    "outputId": "4613b943-5ad8-4f63-d03c-2989e1110ffc"
   },
   "outputs": [],
   "source": [
    "#Sumamos los delitos por año\n",
    "sums=df_meses.sum(axis=1)\n",
    "sums"
   ]
  },
  {
   "cell_type": "code",
   "execution_count": null,
   "id": "QZ0xgrMNL2QP",
   "metadata": {
    "colab": {
     "base_uri": "https://localhost:8080/",
     "height": 835
    },
    "id": "QZ0xgrMNL2QP",
    "outputId": "594e64ed-1417-4008-ff8f-29b29ac552cf"
   },
   "outputs": [],
   "source": [
    "sums.plot.bar();"
   ]
  },
  {
   "cell_type": "markdown",
   "id": "-_nmG6DkRR_L",
   "metadata": {
    "id": "-_nmG6DkRR_L"
   },
   "source": [
    "### Concluiones\n",
    "\n",
    "\n",
    "*   En el grafico 1) **Como es el comportamiento de la violencia en los respectivos meses?** se realizo una comparativa del tipo de delito por los años ocurridos en el periodo 2015 hasta febrero 2023, por lo cual podemos observar que predominan mas los Homicidios ,Leciones  y Secuentros. \n",
    "\n",
    "*   En el grafico 2) **Comportamiento de violencia por mes en los años** se puede observar la comparativa de los meses que se cometieron los delitos por el año, ocurriendo mas en el año 2022 y tambien por no mucho 2021 predomindando mas los meses de Mayo y Marzo\n",
    "\n",
    "*   Por otra parte en el grafico 3) **Afectaciones comunes en la sociedad de cada mes en el periodo 2015-2023** , las afectaciones mas comunes a la sociendad es el Patrimonio en cualquiera de los meses del año \n",
    "\n",
    "*   Para el grafico 4) **Relacion de la Modalidad con el Tipo de delito** se realizo una comparacion entre el delito y la modalidad en que se realizo, la modalidad es en como se realizaron tales delitos, podemos observar que en los Homicidios y Lesiones se da muy amenudo con Armar de fuego, arma blanca,y en accidente de trafico.\n",
    "\n",
    "*   Siguiendo la grafica 5) **Afecciones de la Edad con  el Tipo de delito** se realizo una comparacion de la Edad con los tipo de delitos, las cuales tanto de menores de  edad 0-17 años y adultos de 18 y más años y asi como los no Especificados sufren de igual forma violencia como es en Homicidios, Leciones y Secuentros\n",
    "\n",
    "*   Por otra parte el grafico 6) **Afecciones de Usuarios con  el Tipo de delito** se realizo una comparacion de quienes eran los que sufren mas etos delitos, la cual se observa que es la Mujer que es las mas vulnerable ante estas situaciones seguido por los Hombres\n",
    "\n",
    "*   Finalmente ocn la grafica no 7) **Incremento de violencia por año** se observa que para el Estado de Mexico hubo un incremento de delitos en los años 2021 y 2022, no podemos hablar mucho de 2023 ya que solo tenemos datos hasta el mes de febrero\n",
    "\n",
    "\n",
    "\n",
    "\n",
    "\n",
    "\n"
   ]
  },
  {
   "cell_type": "markdown",
   "id": "GI11HBqc4pG_",
   "metadata": {
    "id": "GI11HBqc4pG_"
   },
   "source": [
    "## CONCLUSION"
   ]
  },
  {
   "cell_type": "markdown",
   "id": "IfKVg44m4ulq",
   "metadata": {
    "id": "IfKVg44m4ulq"
   },
   "source": [
    "En conclusion a ello podemos saber que  Mexico es el estado con mayor violencia en toda la Republica mexicana, siendo el Homicidio, Lesiones y Secuentros con mas frecuencia, que afecta un porcentaje mayor a las **Mujeres** y que el rango de edad son menores de 17 años y tambien Adultos, y que son mas comunes en los meses de Marzo y Mayo por lo que se recomienda realizar un aviso a la sociedad para tomar sus precauciones posibles y alertar al estado de Mexico para que comience a tomar acciones."
   ]
  },
  {
   "cell_type": "markdown",
   "id": "_aHC300GMm3V",
   "metadata": {
    "id": "_aHC300GMm3V"
   },
   "source": [
    "##FEATURE SELECTION USING ANOVA"
   ]
  },
  {
   "cell_type": "markdown",
   "id": "SyH7-yFnVQDX",
   "metadata": {
    "id": "SyH7-yFnVQDX"
   },
   "source": [
    "## **ANOVA de mas de una vía**\n",
    "Se selecciona el modelo de Feature Selection ANOVA, lo cual nos permitira selccionar una variable numerica junto con una varibale categorica y con esto podremos ver la relacion del Total de delitos en relacion al Sexo "
   ]
  },
  {
   "cell_type": "code",
   "execution_count": null,
   "id": "yPsJ2s_ixoxg",
   "metadata": {
    "colab": {
     "base_uri": "https://localhost:8080/"
    },
    "id": "yPsJ2s_ixoxg",
    "outputId": "615cef0e-8272-475a-f00f-3144c9a23a1e"
   },
   "outputs": [],
   "source": [
    "df_Mexico.groupby('Sexo/Averiguación previa').size()"
   ]
  },
  {
   "cell_type": "code",
   "execution_count": null,
   "id": "xQmU15RdyMZF",
   "metadata": {
    "id": "xQmU15RdyMZF"
   },
   "outputs": [],
   "source": [
    "#Seleccionamos los datos de interes Sexo y Total de delitos\n",
    "df_select =df_Mexico.loc[:, ['Total delitos','Sexo/Averiguación previa']]"
   ]
  },
  {
   "cell_type": "code",
   "execution_count": null,
   "id": "LGVFNmQ4xvOp",
   "metadata": {
    "colab": {
     "base_uri": "https://localhost:8080/",
     "height": 238
    },
    "id": "LGVFNmQ4xvOp",
    "outputId": "cf02bc5d-e145-4c5d-bd7a-7697afa89cd8"
   },
   "outputs": [],
   "source": [
    "df_select.groupby('Sexo/Averiguación previa').agg(['mean', 'std'])"
   ]
  },
  {
   "cell_type": "code",
   "execution_count": null,
   "id": "kr2MEeIT31mF",
   "metadata": {
    "colab": {
     "base_uri": "https://localhost:8080/",
     "height": 872
    },
    "id": "kr2MEeIT31mF",
    "outputId": "887acd3d-f52d-4b2a-af7c-6d0b8087870b"
   },
   "outputs": [],
   "source": [
    "#Graficamos con un boxblot de los datos obtenidos anteriormente\n",
    "plt.figure(figsize=(10,8))\n",
    "df_select.boxplot('Total delitos', by='Sexo/Averiguación previa')"
   ]
  },
  {
   "cell_type": "code",
   "execution_count": null,
   "id": "zyvO_W14YCqw",
   "metadata": {
    "id": "zyvO_W14YCqw"
   },
   "outputs": [],
   "source": [
    "#Renombremos las tablas de interes quitando los espacios\n",
    "df_clear = df_Mexico.rename(columns={\"Total delitos\": \"Total_delitos\", \"Sexo/Averiguación previa\": \"Sexo\", \"Rango de edad\" : \"Edad\"})"
   ]
  },
  {
   "cell_type": "code",
   "execution_count": null,
   "id": "CXxP8TxLX2od",
   "metadata": {
    "colab": {
     "base_uri": "https://localhost:8080/",
     "height": 424
    },
    "id": "CXxP8TxLX2od",
    "outputId": "6bf1953c-f9c6-4014-c127-b25d8385725d"
   },
   "outputs": [],
   "source": [
    "df_clear"
   ]
  },
  {
   "cell_type": "code",
   "execution_count": null,
   "id": "BVXgIZG5aWXb",
   "metadata": {
    "id": "BVXgIZG5aWXb"
   },
   "outputs": [],
   "source": [
    "#Convertimos el tipo de dato int64 a float\n",
    "df_clear['Total_delitos'] = df_clear['Total_delitos'].astype(float)"
   ]
  },
  {
   "cell_type": "code",
   "execution_count": null,
   "id": "CtwfDR1SawQw",
   "metadata": {
    "colab": {
     "base_uri": "https://localhost:8080/"
    },
    "id": "CtwfDR1SawQw",
    "outputId": "70d2c87a-c812-4113-ba35-eb74d0bcf740"
   },
   "outputs": [],
   "source": [
    "#Cionsultamos si se realizaron los cambios\n",
    "df_clear.info()"
   ]
  },
  {
   "cell_type": "markdown",
   "id": "gsvB2nFVUZoj",
   "metadata": {
    "id": "gsvB2nFVUZoj"
   },
   "source": [
    "Creamos la formula los cual nos "
   ]
  },
  {
   "cell_type": "code",
   "execution_count": null,
   "id": "hmbKc80bVgcB",
   "metadata": {
    "colab": {
     "base_uri": "https://localhost:8080/",
     "height": 213
    },
    "id": "hmbKc80bVgcB",
    "outputId": "5d194194-94c9-4f14-f2f6-328e1f7882e8"
   },
   "outputs": [],
   "source": [
    "#Creamos la formula para conocer la relacion entre el Tipo de delitos con el Sexo y la Edad\n",
    "formula = 'Total_delitos ~ Sexo + Edad + '\n",
    "\n",
    "model = sm.formula.ols(formula, data= df_clear).fit()\n",
    "aov_table =  sm.stats.anova_lm(model,typ=2)\n",
    "aov_table"
   ]
  },
  {
   "cell_type": "markdown",
   "id": "RCuzzs_4WM3C",
   "metadata": {
    "id": "RCuzzs_4WM3C"
   },
   "source": [
    "##Conclusiones\n",
    "De acuerdo a la prediccion obtenida se puede apreciar que la relacion entre el Total de delitos de acuerdo al Sexo o la Edad no es muy mucha la diferencia"
   ]
  },
  {
   "cell_type": "markdown",
   "id": "zMHTRa5BMs2T",
   "metadata": {
    "id": "zMHTRa5BMs2T"
   },
   "source": [
    "## MODELO"
   ]
  },
  {
   "cell_type": "code",
   "execution_count": null,
   "id": "Fb4xJbm_aiAX",
   "metadata": {
    "colab": {
     "base_uri": "https://localhost:8080/",
     "height": 424
    },
    "id": "Fb4xJbm_aiAX",
    "outputId": "fc185314-7006-4c38-cb1e-9ef500abd67f"
   },
   "outputs": [],
   "source": [
    "# Read CSV\n",
    "df = pd.read_csv('Crimen_mx.csv', encoding='utf-8')\n",
    "df_clear = df.fillna(0)\n",
    "df_clear"
   ]
  },
  {
   "cell_type": "code",
   "execution_count": null,
   "id": "JHMO3ASPaj4W",
   "metadata": {
    "id": "JHMO3ASPaj4W"
   },
   "outputs": [],
   "source": []
  },
  {
   "cell_type": "code",
   "execution_count": null,
   "id": "N80tThkLacQt",
   "metadata": {
    "colab": {
     "base_uri": "https://localhost:8080/"
    },
    "id": "N80tThkLacQt",
    "outputId": "520c46b2-bb7f-4ec2-b6d9-824703b74c81"
   },
   "outputs": [],
   "source": [
    "# Asignamos nuestra variable de entrada X para entrenamiento y las etiquetas Y.\n",
    "dataX =df_clear[[\"Total delitos\"]]\n",
    "X_train = np.array(dataX)\n",
    "y_train = df_clear['Año'].values\n",
    " \n",
    "# Creamos el objeto de Regresión Linear\n",
    "regr = linear_model.LinearRegression()\n",
    " \n",
    "# Entrenamos nuestro modelo\n",
    "regr.fit(X_train, y_train)\n",
    " \n",
    "# Hacemos las predicciones que en definitiva una línea (en este caso, al ser 2D)\n",
    "y_pred = regr.predict(X_train)\n",
    " \n",
    "# Veamos los coeficienetes obtenidos, En nuestro caso, serán la Tangente\n",
    "print('Coefficients: \\n', regr.coef_)\n",
    "# Este es el valor donde corta el eje Y (en X=0)\n",
    "print('Independent term: \\n', regr.intercept_)\n",
    "# Error Cuadrado Medio\n",
    "print(\"Mean squared error: %.2f\" % mean_squared_error(y_train, y_pred))\n",
    "# Puntaje de Varianza. El mejor puntaje es un 1.0\n",
    "print('Variance score: %.2f' % r2_score(y_train, y_pred))"
   ]
  }
 ],
 "metadata": {
  "colab": {
   "provenance": [],
   "toc_visible": true
  },
  "kernelspec": {
   "display_name": "Python 3 (ipykernel)",
   "language": "python",
   "name": "python3"
  },
  "language_info": {
   "codemirror_mode": {
    "name": "ipython",
    "version": 3
   },
   "file_extension": ".py",
   "mimetype": "text/x-python",
   "name": "python",
   "nbconvert_exporter": "python",
   "pygments_lexer": "ipython3",
   "version": "3.9.13"
  }
 },
 "nbformat": 4,
 "nbformat_minor": 5
}
